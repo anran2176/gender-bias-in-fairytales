{
 "cells": [
  {
   "cell_type": "code",
   "execution_count": 6,
   "id": "0ad03035",
   "metadata": {},
   "outputs": [],
   "source": [
    "import tensorflow as tf\n",
    "import numpy as np\n",
    "import pickle"
   ]
  },
  {
   "cell_type": "code",
   "execution_count": 3,
   "id": "a5b73e24",
   "metadata": {},
   "outputs": [],
   "source": [
    "# get preprocessed data:\n",
    "train_file = '../preprocessed_texts.txt'\n",
    "file = open(train_file, \"r\")\n",
    "\n",
    "train_data = file.read()\n",
    "train_data = train_data.split(' ')\n",
    "\n",
    "file.close()\n"
   ]
  },
  {
   "cell_type": "code",
   "execution_count": 14,
   "id": "3e97aa10",
   "metadata": {},
   "outputs": [],
   "source": [
    "# get vocabulary:\n",
    "with open('../vocabulary.pkl', 'rb') as fp:\n",
    "    vocabulary = pickle.load(fp)\n",
    "    \n",
    "vocab_size = len(vocabulary)"
   ]
  },
  {
   "cell_type": "markdown",
   "id": "bc355a1a",
   "metadata": {},
   "source": [
    "## Bi-directional LSTM Masked Language Modeling\n",
    "\n",
    "references: \n",
    "\n",
    "https://keras.io/examples/nlp/masked_language_modeling/#create-bert-model-pretraining-model-for-masked-language-modeling\n",
    "\n",
    "https://www.kaggle.com/code/ritvik1909/masked-language-modelling-rnn#Data-Preparation\n",
    "\n",
    "https://keras.io/examples/nlp/bidirectional_lstm_imdb/\n",
    "\n",
    "questions:\n",
    "- should we split data by sentence instead of by fixed window size of 20?\n"
   ]
  },
  {
   "cell_type": "markdown",
   "id": "6e51007c",
   "metadata": {},
   "source": [
    "### more data preparation"
   ]
  },
  {
   "cell_type": "code",
   "execution_count": 18,
   "id": "103b3b90",
   "metadata": {},
   "outputs": [],
   "source": [
    "# convert words to vectors\n",
    "vectorized_text = list(map(lambda x: vocabulary[x], train_data))\n",
    "vectorized_text = np.array(vectorized_text)\n",
    "\n",
    "# add [mask] to vocabulary\n",
    "mask_id = vocab_size\n",
    "vocabulary['[mask]'] = mask_id\n",
    "\n",
    "# split data into sequences of length 20\n",
    "vectorized_text_len = len(vectorized_text) - (len(vectorized_text) % 20)\n",
    "vectorized_text = vectorized_text[:vectorized_text_len]\n",
    "vectorized_text = np.reshape(vectorized_text,[-1,20])"
   ]
  },
  {
   "cell_type": "code",
   "execution_count": 19,
   "id": "c34a2e5b",
   "metadata": {},
   "outputs": [
    {
     "data": {
      "text/plain": [
       "array([[4556,  986, 4556, ..., 1696, 4015,    0],\n",
       "       [ 718, 4250, 3636, ...,    0, 4556, 1095],\n",
       "       [   0, 4556, 4556, ..., 1280, 4556, 4556],\n",
       "       ...,\n",
       "       [1533,  822, 2609, ..., 1954, 1778, 1731],\n",
       "       [1449, 2609,    0, ..., 4556, 2856, 2622],\n",
       "       [4580,    0,  349, ..., 4309, 4556,  165]])"
      ]
     },
     "execution_count": 19,
     "metadata": {},
     "output_type": "execute_result"
    }
   ],
   "source": [
    "vectorized_text"
   ]
  },
  {
   "cell_type": "code",
   "execution_count": 20,
   "id": "0f04468a",
   "metadata": {},
   "outputs": [],
   "source": [
    "def mask_one_input_label(sequence):\n",
    "    \n",
    "    # randomly choose one position in sequence to mask\n",
    "    mask = np.random.randint(low=0, high=20)\n",
    "    \n",
    "    # add mask to input\n",
    "    masked_input = [token if i != mask else mask_id for i, token in enumerate(sequence)]\n",
    "    \n",
    "    # set all values in label to -1(ignored by loss function) except the value at the masked position\n",
    "    label = [-1 if i!= mask else token for i, token in enumerate(sequence)]\n",
    "    return masked_input, label\n"
   ]
  },
  {
   "cell_type": "code",
   "execution_count": 21,
   "id": "76fbd678",
   "metadata": {},
   "outputs": [],
   "source": [
    "# get masked inputs and labels\n",
    "def get_masked_inputs_labels(text):\n",
    "    inputs = []\n",
    "    labels = []\n",
    "\n",
    "    for seq in text:\n",
    "        x,y = mask_one_input_label(seq)\n",
    "        inputs.append(x)\n",
    "        labels.append(y)\n",
    "    inputs = np.array(inputs)\n",
    "    labels = np.array(labels)\n",
    "    \n",
    "    return inputs, labels\n"
   ]
  },
  {
   "cell_type": "code",
   "execution_count": 22,
   "id": "d8dcf54a",
   "metadata": {},
   "outputs": [],
   "source": [
    "inputs, labels = get_masked_inputs_labels(vectorized_text)"
   ]
  },
  {
   "cell_type": "markdown",
   "id": "5d56a73b",
   "metadata": {},
   "source": [
    "### bi-directional lstm model building and training"
   ]
  },
  {
   "cell_type": "code",
   "execution_count": 14,
   "id": "9830fd30",
   "metadata": {},
   "outputs": [],
   "source": [
    "# define masked language modeling class\n",
    "class LSTM_MLM(tf.keras.Model):\n",
    "    def __init__(self, vocab_size, embed_size, input_length):\n",
    "        \"\"\"\n",
    "        The Model class predicts the next words in a sequence.\n",
    "        : param vocab_size : The number of unique words in the data\n",
    "        : param hidden_size   : The size of your desired RNN\n",
    "        : param embed_size : The size of your latent embedding\n",
    "        \"\"\"\n",
    "\n",
    "        super().__init__()\n",
    "\n",
    "        self.vocab_size = vocab_size\n",
    "        self.embed_size = embed_size\n",
    "        self.input_length = input_length\n",
    "\n",
    "        ## TODO: define your trainable variables and/or layers here. This should include an\n",
    "        ## embedding component, and any other variables/layers you require.\n",
    "\n",
    "        # embedding layer\n",
    "        self.embedding = tf.keras.layers.Embedding(input_dim=self.vocab_size+1, output_dim=self.embed_size)\n",
    "        self.lstm = tf.keras.layers.Bidirectional(tf.keras.layers.LSTM(128, return_sequences=True))\n",
    "        self.dense1 = tf.keras.layers.Dense(self.vocab_size, activation='softmax')\n",
    "\n",
    "        # fully connected linear layers\n",
    "\n",
    "\n",
    "    def call(self, inputs):\n",
    "        \"\"\"\n",
    "        You must use an embedding layer as the first layer of your network (i.e. tf.nn.embedding_lookup or tf.keras.layers.Embedding)\n",
    "        :param inputs: word ids of shape (batch_size, 2)\n",
    "        :return: logits: The batch element probabilities as a tensor of shape (batch_size, vocab_size)\n",
    "        \"\"\"\n",
    "\n",
    "        # embedding layer\n",
    "        x = inputs\n",
    "        \n",
    "        x = self.embedding(x)\n",
    "        x = self.lstm(x)\n",
    "        x = self.dense1(x)\n",
    "\n",
    "        \n",
    "        return x\n"
   ]
  },
  {
   "cell_type": "code",
   "execution_count": 127,
   "id": "9c274c0c",
   "metadata": {},
   "outputs": [
    {
     "name": "stdout",
     "output_type": "stream",
     "text": [
      "Epoch 1/20\n",
      "98/98 [==============================] - 14s 72ms/step - loss: 7.0499\n",
      "Epoch 2/20\n",
      "98/98 [==============================] - 7s 74ms/step - loss: 5.6662\n",
      "Epoch 3/20\n",
      "98/98 [==============================] - 11s 110ms/step - loss: 5.3911\n",
      "Epoch 4/20\n",
      "98/98 [==============================] - 7s 73ms/step - loss: 5.2313\n",
      "Epoch 5/20\n",
      "98/98 [==============================] - 7s 73ms/step - loss: 5.0641\n",
      "Epoch 6/20\n",
      "98/98 [==============================] - 7s 69ms/step - loss: 4.8635\n",
      "Epoch 7/20\n",
      "98/98 [==============================] - 9s 90ms/step - loss: 4.6110\n",
      "Epoch 8/20\n",
      "98/98 [==============================] - 6s 66ms/step - loss: 4.3779\n",
      "Epoch 9/20\n",
      "98/98 [==============================] - 6s 60ms/step - loss: 4.1853\n",
      "Epoch 10/20\n",
      "98/98 [==============================] - 6s 62ms/step - loss: 3.9469\n",
      "Epoch 11/20\n",
      "98/98 [==============================] - 6s 66ms/step - loss: 3.7062\n",
      "Epoch 12/20\n",
      "98/98 [==============================] - 6s 62ms/step - loss: 3.4725\n",
      "Epoch 13/20\n",
      "98/98 [==============================] - 6s 64ms/step - loss: 3.2321\n",
      "Epoch 14/20\n",
      "98/98 [==============================] - 6s 62ms/step - loss: 3.0094\n",
      "Epoch 15/20\n",
      "98/98 [==============================] - 6s 61ms/step - loss: 2.8030\n",
      "Epoch 16/20\n",
      "98/98 [==============================] - 6s 65ms/step - loss: 2.5666\n",
      "Epoch 17/20\n",
      "98/98 [==============================] - 6s 65ms/step - loss: 2.3164\n",
      "Epoch 18/20\n",
      "98/98 [==============================] - 6s 64ms/step - loss: 2.0705\n",
      "Epoch 19/20\n",
      "98/98 [==============================] - 7s 66ms/step - loss: 1.8239\n",
      "Epoch 20/20\n",
      "98/98 [==============================] - 6s 66ms/step - loss: 1.5914\n"
     ]
    },
    {
     "data": {
      "text/plain": [
       "<keras.callbacks.History at 0x7f8abf84fdf0>"
      ]
     },
     "execution_count": 127,
     "metadata": {},
     "output_type": "execute_result"
    }
   ],
   "source": [
    "model = LSTM_MLM(vocab_size, 64, 20)\n",
    "loss_metric = tf.keras.losses.SparseCategoricalCrossentropy(ignore_class=-1)\n",
    "# accuracy is not a good measure\n",
    "model.compile(loss=loss_metric, optimizer='adam')\n",
    "model.fit(x=inputs, y=labels, batch_size=20, epochs=20) \n",
    "# we do not need validation because our purpose is only to learn the patterns in our training data"
   ]
  },
  {
   "cell_type": "markdown",
   "id": "dd4294ef",
   "metadata": {},
   "source": [
    "### get predicted probability"
   ]
  },
  {
   "cell_type": "code",
   "execution_count": 23,
   "id": "79ca807a",
   "metadata": {},
   "outputs": [],
   "source": [
    "# make prediction: still in progress\n",
    "\n",
    "def get_predicted_probability(masked_sentence, target_word):\n",
    "    masked_sentence = masked_sentence.split(' ')\n",
    "    mask_loc = masked_sentence.index('[mask]')\n",
    "    target_id = vocabulary[target_word]\n",
    "    query_id = [vocabulary[q] for q in masked_sentence]\n",
    "\n",
    "    query_id = tf.expand_dims(query_id, axis=0)\n",
    "    pred = model(query_id)[:,mask_loc, target_id]\n",
    "    return pred\n"
   ]
  },
  {
   "cell_type": "code",
   "execution_count": 24,
   "id": "fd046776",
   "metadata": {},
   "outputs": [],
   "source": [
    "test_sentence = '[mask] like beauti dress'"
   ]
  },
  {
   "cell_type": "code",
   "execution_count": 132,
   "id": "b1eeb29c",
   "metadata": {},
   "outputs": [
    {
     "data": {
      "text/plain": [
       "<tf.Tensor: shape=(1,), dtype=float32, numpy=array([0.02857665], dtype=float32)>"
      ]
     },
     "execution_count": 132,
     "metadata": {},
     "output_type": "execute_result"
    }
   ],
   "source": [
    "get_predicted_probability(test_sentence, 'she')"
   ]
  },
  {
   "cell_type": "code",
   "execution_count": 133,
   "id": "934b9680",
   "metadata": {},
   "outputs": [
    {
     "data": {
      "text/plain": [
       "<tf.Tensor: shape=(1,), dtype=float32, numpy=array([0.01522405], dtype=float32)>"
      ]
     },
     "execution_count": 133,
     "metadata": {},
     "output_type": "execute_result"
    }
   ],
   "source": [
    "get_predicted_probability(test_sentence, 'he')"
   ]
  },
  {
   "cell_type": "code",
   "execution_count": 185,
   "id": "305dd1b9",
   "metadata": {},
   "outputs": [
    {
     "data": {
      "text/plain": [
       "<tf.Tensor: shape=(1,), dtype=float32, numpy=array([0.00066057], dtype=float32)>"
      ]
     },
     "execution_count": 185,
     "metadata": {},
     "output_type": "execute_result"
    }
   ],
   "source": [
    "get_predicted_probability(test_sentence, 'queen')"
   ]
  },
  {
   "cell_type": "code",
   "execution_count": 186,
   "id": "dfe65af6",
   "metadata": {},
   "outputs": [
    {
     "data": {
      "text/plain": [
       "<tf.Tensor: shape=(1,), dtype=float32, numpy=array([3.19514e-05], dtype=float32)>"
      ]
     },
     "execution_count": 186,
     "metadata": {},
     "output_type": "execute_result"
    }
   ],
   "source": [
    "get_predicted_probability(test_sentence, 'king')"
   ]
  },
  {
   "cell_type": "code",
   "execution_count": 177,
   "id": "556080d0",
   "metadata": {},
   "outputs": [],
   "source": [
    "test_sentence = 'evil old [mask]'"
   ]
  },
  {
   "cell_type": "code",
   "execution_count": 180,
   "id": "cb73c75e",
   "metadata": {},
   "outputs": [
    {
     "data": {
      "text/plain": [
       "<tf.Tensor: shape=(1,), dtype=float32, numpy=array([1.3034821e-05], dtype=float32)>"
      ]
     },
     "execution_count": 180,
     "metadata": {},
     "output_type": "execute_result"
    }
   ],
   "source": [
    "get_predicted_probability(test_sentence, 'man')"
   ]
  },
  {
   "cell_type": "code",
   "execution_count": 181,
   "id": "e27cd75a",
   "metadata": {},
   "outputs": [
    {
     "data": {
      "text/plain": [
       "<tf.Tensor: shape=(1,), dtype=float32, numpy=array([6.0170372e-05], dtype=float32)>"
      ]
     },
     "execution_count": 181,
     "metadata": {},
     "output_type": "execute_result"
    }
   ],
   "source": [
    "get_predicted_probability(test_sentence, 'woman')"
   ]
  },
  {
   "cell_type": "code",
   "execution_count": 189,
   "id": "469602ac",
   "metadata": {},
   "outputs": [
    {
     "data": {
      "text/plain": [
       "<tf.Tensor: shape=(1,), dtype=float32, numpy=array([2.3883402e-05], dtype=float32)>"
      ]
     },
     "execution_count": 189,
     "metadata": {},
     "output_type": "execute_result"
    }
   ],
   "source": [
    "test_sentence = 'pretti [mask]'\n",
    "get_predicted_probability(test_sentence, 'girl')"
   ]
  },
  {
   "cell_type": "code",
   "execution_count": 190,
   "id": "11a696da",
   "metadata": {},
   "outputs": [
    {
     "data": {
      "text/plain": [
       "<tf.Tensor: shape=(1,), dtype=float32, numpy=array([0.00011371], dtype=float32)>"
      ]
     },
     "execution_count": 190,
     "metadata": {},
     "output_type": "execute_result"
    }
   ],
   "source": [
    "get_predicted_probability(test_sentence, 'boy')"
   ]
  },
  {
   "cell_type": "markdown",
   "id": "7b64fc2d",
   "metadata": {},
   "source": [
    "### access embedding layer:"
   ]
  },
  {
   "cell_type": "code",
   "execution_count": 192,
   "id": "0ef8cd12",
   "metadata": {},
   "outputs": [
    {
     "data": {
      "text/plain": [
       "(4127, 64)"
      ]
     },
     "execution_count": 192,
     "metadata": {},
     "output_type": "execute_result"
    }
   ],
   "source": [
    "embeddings = model.layers[0].get_weights()[0]\n",
    "embeddings.shape"
   ]
  },
  {
   "cell_type": "markdown",
   "id": "9aed693a",
   "metadata": {},
   "source": [
    "### testing lstm model on HW4 data:"
   ]
  },
  {
   "cell_type": "code",
   "execution_count": 44,
   "id": "1f9ab1dd",
   "metadata": {},
   "outputs": [],
   "source": [
    "file = open('../data/hw4_train.txt', \"r\")\n",
    "\n",
    "hw4_data = file.read()\n",
    "hw4_data = hw4_data.replace('\\n', ' ').split(' ')\n",
    "\n",
    "file.close()"
   ]
  },
  {
   "cell_type": "code",
   "execution_count": 49,
   "id": "c71b8934",
   "metadata": {},
   "outputs": [],
   "source": [
    "hw4_vocabulary, hw4_vocab_size = get_vocab(hw4_data)"
   ]
  },
  {
   "cell_type": "code",
   "execution_count": 50,
   "id": "2b88121f",
   "metadata": {},
   "outputs": [],
   "source": [
    "# convert words to vectors\n",
    "hw4_vectorized_text = list(map(lambda x: hw4_vocabulary[x], hw4_data))\n",
    "hw4_vectorized_text = np.array(hw4_vectorized_text)\n",
    "\n",
    "# add [mask] to vocabulary\n",
    "mask_id = vocab_size\n",
    "hw4_vocabulary['[mask]'] = mask_id\n",
    "\n",
    "# split data into sequences of length 20\n",
    "hw4_vectorized_text_len = len(hw4_vectorized_text) - (len(hw4_vectorized_text) % 20)\n",
    "hw4_vectorized_text = hw4_vectorized_text[:hw4_vectorized_text_len]\n",
    "hw4_vectorized_text = np.reshape(hw4_vectorized_text,[-1,20])"
   ]
  },
  {
   "cell_type": "code",
   "execution_count": 52,
   "id": "4d5989da",
   "metadata": {},
   "outputs": [],
   "source": [
    "hw4_inputs, hw4_labels = get_masked_inputs_labels(hw4_vectorized_text)"
   ]
  },
  {
   "cell_type": "code",
   "execution_count": 193,
   "id": "0e7a53e5",
   "metadata": {
    "scrolled": true
   },
   "outputs": [],
   "source": [
    "# testing model performance on hw4 data:\n",
    "# model = LSTM_MLM(hw4_vocab_size, 64, 20)\n",
    "# loss_metric = tf.keras.losses.SparseCategoricalCrossentropy(ignore_class=-1)\n",
    "# model.compile(loss=loss_metric, optimizer='adam')\n",
    "# model.fit(x=hw4_inputs, y=hw4_labels, batch_size=20, epochs=50)"
   ]
  },
  {
   "cell_type": "markdown",
   "id": "d696ff06",
   "metadata": {},
   "source": [
    "## Transformers"
   ]
  },
  {
   "cell_type": "markdown",
   "id": "238aa8ac",
   "metadata": {},
   "source": [
    "references: \"Attention Is All You Need\" paper by Vaswani et al."
   ]
  },
  {
   "cell_type": "code",
   "execution_count": 19,
   "id": "e923d64a",
   "metadata": {},
   "outputs": [],
   "source": [
    "class SingleHeadAttention(tf.keras.layers.Layer):\n",
    "    def __init__(self, d_model):\n",
    "        super(SingleHeadAttention, self).__init__()\n",
    "        self.d_model = d_model\n",
    "        self.query = tf.keras.layers.Dense(d_model)\n",
    "        self.key = tf.keras.layers.Dense(d_model)\n",
    "        self.value = tf.keras.layers.Dense(d_model)\n",
    "\n",
    "    def call(self, q, k, v, mask):\n",
    "        q = self.query(q)\n",
    "        k = self.key(k)\n",
    "        v = self.value(v)\n",
    "        \n",
    "        dk = tf.cast(tf.shape(k)[-1], tf.float32)\n",
    "        scaled_attention_logits = tf.matmul(q, k, transpose_b=True) / tf.math.sqrt(dk)\n",
    "        \n",
    "        if mask is not None:\n",
    "            scaled_attention_logits += (mask * -1e9)\n",
    "        \n",
    "        attention_weights = tf.nn.softmax(scaled_attention_logits, axis=-1)\n",
    "        output = tf.matmul(attention_weights, v)\n",
    "\n",
    "        return output, attention_weights"
   ]
  },
  {
   "cell_type": "code",
   "execution_count": 20,
   "id": "32f12b0c",
   "metadata": {},
   "outputs": [],
   "source": [
    "class TransformerBlock(tf.keras.layers.Layer):\n",
    "    def __init__(self, d_model):\n",
    "        super(TransformerBlock, self).__init__()\n",
    "        self.d_model = d_model\n",
    "        self.att = SingleHeadAttention(d_model)\n",
    "        self.ffn = tf.keras.Sequential([\n",
    "            tf.keras.layers.Dense(d_model * 4, activation='relu'),\n",
    "            tf.keras.layers.Dense(d_model)\n",
    "        ])\n",
    "\n",
    "        self.layernorm1 = tf.keras.layers.LayerNormalization(epsilon=1e-6)\n",
    "        self.layernorm2 = tf.keras.layers.LayerNormalization(epsilon=1e-6)\n",
    "\n",
    "        self.dropout1 = tf.keras.layers.Dropout(0.1)\n",
    "        self.dropout2 = tf.keras.layers.Dropout(0.1)\n",
    "\n",
    "    def call(self, x, training, mask=None):\n",
    "        attn_output, _ = self.att(x, x, x, mask)\n",
    "        attn_output = self.dropout1(attn_output, training=training)\n",
    "        out1 = self.layernorm1(x + attn_output)\n",
    "\n",
    "        ffn_output = self.ffn(out1)\n",
    "        ffn_output = self.dropout2(ffn_output, training=training)\n",
    "        out2 = self.layernorm2(out1 + ffn_output)\n",
    "\n",
    "        return out2"
   ]
  },
  {
   "cell_type": "code",
   "execution_count": 21,
   "id": "f22cb214",
   "metadata": {},
   "outputs": [],
   "source": [
    "class Transformer_MLM(tf.keras.Model):\n",
    "    def __init__(self, vocab_size, embed_size, input_length):\n",
    "        super().__init__()\n",
    "\n",
    "        self.vocab_size = vocab_size\n",
    "        self.embed_size = embed_size\n",
    "        self.input_length = input_length\n",
    "\n",
    "        self.embedding = tf.keras.layers.Embedding(input_dim=self.vocab_size+1, output_dim=self.embed_size)\n",
    "        self.transformer_block = TransformerBlock(self.embed_size)\n",
    "        self.dense1 = tf.keras.layers.Dense(self.vocab_size, activation='softmax')\n",
    "\n",
    "    def call(self, inputs):\n",
    "        x = inputs\n",
    "        x = self.embedding(x)\n",
    "        x = self.transformer_block(x, training=True)\n",
    "        x = self.dense1(x)\n",
    "        \n",
    "        return x"
   ]
  },
  {
   "cell_type": "code",
   "execution_count": 25,
   "id": "64138dd1",
   "metadata": {},
   "outputs": [
    {
     "name": "stdout",
     "output_type": "stream",
     "text": [
      "Epoch 1/20\n",
      "98/98 [==============================] - 6s 37ms/step - loss: 7.6252\n",
      "Epoch 2/20\n",
      "98/98 [==============================] - 4s 37ms/step - loss: 5.9200\n",
      "Epoch 3/20\n",
      "98/98 [==============================] - 4s 37ms/step - loss: 5.3986\n",
      "Epoch 4/20\n",
      "98/98 [==============================] - 4s 36ms/step - loss: 4.7189\n",
      "Epoch 5/20\n",
      "98/98 [==============================] - 4s 37ms/step - loss: 3.8785\n",
      "Epoch 6/20\n",
      "98/98 [==============================] - 4s 37ms/step - loss: 3.0417\n",
      "Epoch 7/20\n",
      "98/98 [==============================] - 4s 38ms/step - loss: 2.2777\n",
      "Epoch 8/20\n",
      "98/98 [==============================] - 3s 34ms/step - loss: 1.6189\n",
      "Epoch 9/20\n",
      "98/98 [==============================] - 4s 38ms/step - loss: 1.1057\n",
      "Epoch 10/20\n",
      "98/98 [==============================] - 4s 39ms/step - loss: 0.7190\n",
      "Epoch 11/20\n",
      "98/98 [==============================] - 4s 39ms/step - loss: 0.4373\n",
      "Epoch 12/20\n",
      "98/98 [==============================] - 4s 41ms/step - loss: 0.2575\n",
      "Epoch 13/20\n",
      "98/98 [==============================] - 4s 42ms/step - loss: 0.1547\n",
      "Epoch 14/20\n",
      "98/98 [==============================] - 4s 40ms/step - loss: 0.1017\n",
      "Epoch 15/20\n",
      "98/98 [==============================] - 4s 42ms/step - loss: 0.0725\n",
      "Epoch 16/20\n",
      "98/98 [==============================] - 4s 45ms/step - loss: 0.0548\n",
      "Epoch 17/20\n",
      "98/98 [==============================] - 4s 43ms/step - loss: 0.0447\n",
      "Epoch 18/20\n",
      "98/98 [==============================] - 5s 47ms/step - loss: 0.0361\n",
      "Epoch 19/20\n",
      "98/98 [==============================] - 4s 43ms/step - loss: 0.0296\n",
      "Epoch 20/20\n",
      "98/98 [==============================] - 4s 39ms/step - loss: 0.0262\n"
     ]
    },
    {
     "data": {
      "text/plain": [
       "<keras.callbacks.History at 0x13cf46f50>"
      ]
     },
     "execution_count": 25,
     "metadata": {},
     "output_type": "execute_result"
    }
   ],
   "source": [
    "model_t = Transformer_MLM(vocab_size, 64, 20)\n",
    "loss_metric = tf.keras.losses.SparseCategoricalCrossentropy(ignore_class=-1)\n",
    "model_t.compile(loss=loss_metric, optimizer='adam')\n",
    "model_t.fit(x=inputs, y=labels, batch_size=20, epochs=20)"
   ]
  },
  {
   "cell_type": "code",
   "execution_count": 26,
   "id": "f5bcb4b0",
   "metadata": {},
   "outputs": [],
   "source": [
    "def get_predicted_probability_transformer(masked_sentence, target_word):\n",
    "    masked_sentence = masked_sentence.split(' ')\n",
    "    mask_loc = masked_sentence.index('[mask]')\n",
    "    target_id = vocabulary[target_word]\n",
    "    query_id = [vocabulary[q] for q in masked_sentence]\n",
    "\n",
    "    query_id = tf.expand_dims(query_id, axis=0)\n",
    "    pred = model_t(query_id)[:,mask_loc, target_id]\n",
    "    return pred"
   ]
  },
  {
   "cell_type": "code",
   "execution_count": 27,
   "id": "050658fa",
   "metadata": {},
   "outputs": [],
   "source": [
    "test_sentence = '[mask] like beauti dress'"
   ]
  },
  {
   "cell_type": "code",
   "execution_count": 38,
   "id": "7f62b708",
   "metadata": {},
   "outputs": [
    {
     "data": {
      "text/plain": [
       "<tf.Tensor: shape=(1,), dtype=float32, numpy=array([2.3778994e-05], dtype=float32)>"
      ]
     },
     "execution_count": 38,
     "metadata": {},
     "output_type": "execute_result"
    }
   ],
   "source": [
    "get_predicted_probability_transformer(test_sentence, 'she')"
   ]
  },
  {
   "cell_type": "code",
   "execution_count": 29,
   "id": "0fabc4bf",
   "metadata": {},
   "outputs": [
    {
     "data": {
      "text/plain": [
       "<tf.Tensor: shape=(1,), dtype=float32, numpy=array([0.00123803], dtype=float32)>"
      ]
     },
     "execution_count": 29,
     "metadata": {},
     "output_type": "execute_result"
    }
   ],
   "source": [
    "get_predicted_probability_transformer(test_sentence, 'he')"
   ]
  },
  {
   "cell_type": "code",
   "execution_count": 30,
   "id": "fbcd1d2b",
   "metadata": {},
   "outputs": [
    {
     "data": {
      "text/plain": [
       "<tf.Tensor: shape=(1,), dtype=float32, numpy=array([0.01000271], dtype=float32)>"
      ]
     },
     "execution_count": 30,
     "metadata": {},
     "output_type": "execute_result"
    }
   ],
   "source": [
    "get_predicted_probability_transformer(test_sentence, 'queen')"
   ]
  },
  {
   "cell_type": "code",
   "execution_count": 31,
   "id": "58a2f92f",
   "metadata": {},
   "outputs": [
    {
     "data": {
      "text/plain": [
       "<tf.Tensor: shape=(1,), dtype=float32, numpy=array([9.1098386e-08], dtype=float32)>"
      ]
     },
     "execution_count": 31,
     "metadata": {},
     "output_type": "execute_result"
    }
   ],
   "source": [
    "get_predicted_probability_transformer(test_sentence, 'king')"
   ]
  }
 ],
 "metadata": {
  "kernelspec": {
   "display_name": "Python 3 (ipykernel)",
   "language": "python",
   "name": "python3"
  },
  "language_info": {
   "codemirror_mode": {
    "name": "ipython",
    "version": 3
   },
   "file_extension": ".py",
   "mimetype": "text/x-python",
   "name": "python",
   "nbconvert_exporter": "python",
   "pygments_lexer": "ipython3",
   "version": "3.10.9"
  }
 },
 "nbformat": 4,
 "nbformat_minor": 5
}
